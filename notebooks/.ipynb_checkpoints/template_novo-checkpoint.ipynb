{
 "cells": [
  {
   "cell_type": "markdown",
   "id": "1f4ac4c4",
   "metadata": {},
   "source": [
    "# 0. IMPORTS"
   ]
  },
  {
   "cell_type": "markdown",
   "id": "6c52d376",
   "metadata": {
    "ExecuteTime": {
     "end_time": "2023-05-02T14:53:00.657195Z",
     "start_time": "2023-05-02T14:53:00.637195Z"
    },
    "heading_collapsed": true
   },
   "source": [
    "## 0.1. Importing libraries"
   ]
  },
  {
   "cell_type": "code",
   "execution_count": 4,
   "id": "a912eae5",
   "metadata": {
    "ExecuteTime": {
     "end_time": "2023-05-02T14:51:09.534496Z",
     "start_time": "2023-05-02T14:50:57.195998Z"
    },
    "hidden": true
   },
   "outputs": [
    {
     "name": "stdout",
     "output_type": "stream",
     "text": [
      "Collecting boruta\n",
      "  Downloading Boruta-0.3-py3-none-any.whl (56 kB)\n",
      "Requirement already satisfied: numpy>=1.10.4 in c:\\users\\paula\\anaconda3\\lib\\site-packages (from boruta) (1.21.5)\n",
      "Requirement already satisfied: scikit-learn>=0.17.1 in c:\\users\\paula\\anaconda3\\lib\\site-packages (from boruta) (1.0.2)\n",
      "Requirement already satisfied: scipy>=0.17.0 in c:\\users\\paula\\anaconda3\\lib\\site-packages (from boruta) (1.7.3)\n",
      "Requirement already satisfied: threadpoolctl>=2.0.0 in c:\\users\\paula\\anaconda3\\lib\\site-packages (from scikit-learn>=0.17.1->boruta) (2.2.0)\n",
      "Requirement already satisfied: joblib>=0.11 in c:\\users\\paula\\anaconda3\\lib\\site-packages (from scikit-learn>=0.17.1->boruta) (1.1.0)\n",
      "Installing collected packages: boruta\n",
      "Successfully installed boruta-0.3\n"
     ]
    }
   ],
   "source": [
    "# !pip install xgboost\n",
    "# !pip install boruta"
   ]
  },
  {
   "cell_type": "code",
   "execution_count": 5,
   "id": "d65876f8",
   "metadata": {
    "ExecuteTime": {
     "end_time": "2023-05-02T14:51:27.546120Z",
     "start_time": "2023-05-02T14:51:27.020461Z"
    },
    "hidden": true
   },
   "outputs": [],
   "source": [
    "import math\n",
    "import numpy  as np\n",
    "import pandas as pd\n",
    "import random\n",
    "import pickle\n",
    "import warnings\n",
    "import inflection\n",
    "import seaborn as sns\n",
    "import xgboost as xgb\n",
    "\n",
    "from scipy                 import stats  as ss\n",
    "from boruta                import BorutaPy\n",
    "from matplotlib            import pyplot as plt\n",
    "from IPython.display       import Image\n",
    "from IPython.core.display  import HTML\n",
    "\n",
    "from sklearn.metrics       import mean_absolute_error, mean_squared_error\n",
    "from sklearn.ensemble      import RandomForestRegressor\n",
    "from sklearn.linear_model  import LinearRegression, Lasso\n",
    "from sklearn.preprocessing import RobustScaler, MinMaxScaler, LabelEncoder\n",
    "\n",
    "warnings.filterwarnings( 'ignore' )"
   ]
  },
  {
   "cell_type": "markdown",
   "id": "cb3324b6",
   "metadata": {
    "heading_collapsed": true
   },
   "source": [
    "## 0.2. Loading data"
   ]
  },
  {
   "cell_type": "code",
   "execution_count": 15,
   "id": "7aa356ea",
   "metadata": {
    "ExecuteTime": {
     "end_time": "2023-05-02T15:19:51.952357Z",
     "start_time": "2023-05-02T15:19:48.846093Z"
    },
    "hidden": true
   },
   "outputs": [],
   "source": [
    "# Importar os datasets\n",
    "df_sales_raw = pd.read_csv('../datasets/train.csv', low_memory=False)\n",
    "df_store_raw = pd.read_csv('../datasets/store.csv', low_memory=False)\n",
    "\n",
    "# Unir os datasetes\n",
    "df_raw = df_store_raw.merge(df_sales_raw, how='inner', on='Store')"
   ]
  },
  {
   "cell_type": "markdown",
   "id": "6efff38b",
   "metadata": {
    "ExecuteTime": {
     "end_time": "2023-05-02T14:53:48.056193Z",
     "start_time": "2023-05-02T14:53:48.041197Z"
    }
   },
   "source": [
    "## 0.3. Helper functions"
   ]
  },
  {
   "cell_type": "code",
   "execution_count": 43,
   "id": "377c1303",
   "metadata": {
    "ExecuteTime": {
     "end_time": "2023-05-02T17:07:42.713451Z",
     "start_time": "2023-05-02T17:07:42.687926Z"
    }
   },
   "outputs": [],
   "source": [
    "# Função para renomear as colunas do dataframe\n",
    "def rename_columns(df_aux):\n",
    "    title = lambda x: inflection.titleize(x)\n",
    "    snakecase = lambda x: inflection.underscore(x)\n",
    "    spaces = lambda x: x.replace(\" \", \"\")\n",
    "\n",
    "    cols = list(df_aux.columns)\n",
    "    cols = list(map(title, cols))\n",
    "    cols = list(map(spaces, cols))\n",
    "    cols = list(map(snakecase, cols))\n",
    "    \n",
    "    df_aux.columns = cols\n",
    "    return df_aux    "
   ]
  },
  {
   "cell_type": "markdown",
   "id": "3dc2182f",
   "metadata": {},
   "source": [
    "# 1. PASSO 01 - DATA DESCRIPTION"
   ]
  },
  {
   "cell_type": "code",
   "execution_count": 54,
   "id": "2e48fdff",
   "metadata": {
    "ExecuteTime": {
     "end_time": "2023-05-02T17:15:05.510464Z",
     "start_time": "2023-05-02T17:15:05.090363Z"
    }
   },
   "outputs": [],
   "source": [
    "df1 = df_raw.copy()"
   ]
  },
  {
   "cell_type": "markdown",
   "id": "f40c35a0",
   "metadata": {
    "heading_collapsed": true
   },
   "source": [
    "## 1.1. Rename Columns"
   ]
  },
  {
   "cell_type": "code",
   "execution_count": 55,
   "id": "c83b91ec",
   "metadata": {
    "ExecuteTime": {
     "end_time": "2023-05-02T17:15:07.268444Z",
     "start_time": "2023-05-02T17:15:07.257444Z"
    },
    "hidden": true
   },
   "outputs": [
    {
     "data": {
      "text/plain": [
       "Index(['store', 'store_type', 'assortment', 'competition_distance',\n",
       "       'competition_open_since_month', 'competition_open_since_year', 'promo2',\n",
       "       'promo2_since_week', 'promo2_since_year', 'promo_interval',\n",
       "       'day_of_week', 'date', 'sales', 'customers', 'open', 'promo',\n",
       "       'state_holiday', 'school_holiday'],\n",
       "      dtype='object')"
      ]
     },
     "execution_count": 55,
     "metadata": {},
     "output_type": "execute_result"
    }
   ],
   "source": [
    "df1 = rename_columns(df1)\n",
    "df1.columns"
   ]
  },
  {
   "cell_type": "markdown",
   "id": "7884d328",
   "metadata": {
    "heading_collapsed": true
   },
   "source": [
    "## 1.2. Data Dimensions"
   ]
  },
  {
   "cell_type": "code",
   "execution_count": 56,
   "id": "e767dc4f",
   "metadata": {
    "ExecuteTime": {
     "end_time": "2023-05-02T17:15:15.845448Z",
     "start_time": "2023-05-02T17:15:15.822700Z"
    },
    "hidden": true
   },
   "outputs": [
    {
     "name": "stdout",
     "output_type": "stream",
     "text": [
      "Number of rows: 1,017,209\n",
      "Number of columns: 18\n"
     ]
    }
   ],
   "source": [
    "print('Number of rows: {:,}'.format(df1.shape[0]))\n",
    "print('Number of columns: {:,}'.format(df1.shape[1]))"
   ]
  },
  {
   "cell_type": "markdown",
   "id": "3497116d",
   "metadata": {},
   "source": [
    "## 1.3. Data Types"
   ]
  },
  {
   "cell_type": "markdown",
   "id": "e44bebf7",
   "metadata": {},
   "source": [
    "Feature | Description\n",
    "-- | --\n",
    "'store', 'store_type', 'assortment', 'competition_distance',\n",
    "       'competition_open_since_month', 'competition_open_since_year', 'promo2',\n",
    "       'promo2_since_week', 'promo2_since_year', 'promo_interval',\n",
    "       'day_of_week', 'date', 'sales', 'customers', 'open', 'promo',\n",
    "       'state_holiday', 'school_holiday'"
   ]
  },
  {
   "cell_type": "code",
   "execution_count": 63,
   "id": "79c58969",
   "metadata": {
    "ExecuteTime": {
     "end_time": "2023-05-02T17:34:13.791558Z",
     "start_time": "2023-05-02T17:34:13.772046Z"
    }
   },
   "outputs": [
    {
     "data": {
      "text/plain": [
       "Index(['store', 'store_type', 'assortment', 'competition_distance',\n",
       "       'competition_open_since_month', 'competition_open_since_year', 'promo2',\n",
       "       'promo2_since_week', 'promo2_since_year', 'promo_interval',\n",
       "       'day_of_week', 'date', 'sales', 'customers', 'open', 'promo',\n",
       "       'state_holiday', 'school_holiday'],\n",
       "      dtype='object')"
      ]
     },
     "execution_count": 63,
     "metadata": {},
     "output_type": "execute_result"
    }
   ],
   "source": [
    "df1.columns"
   ]
  },
  {
   "cell_type": "code",
   "execution_count": 57,
   "id": "5aa5315f",
   "metadata": {
    "ExecuteTime": {
     "end_time": "2023-05-02T17:15:19.563158Z",
     "start_time": "2023-05-02T17:15:19.543156Z"
    }
   },
   "outputs": [
    {
     "data": {
      "text/plain": [
       "store                             int64\n",
       "store_type                       object\n",
       "assortment                       object\n",
       "competition_distance            float64\n",
       "competition_open_since_month    float64\n",
       "competition_open_since_year     float64\n",
       "promo2                            int64\n",
       "promo2_since_week               float64\n",
       "promo2_since_year               float64\n",
       "promo_interval                   object\n",
       "day_of_week                       int64\n",
       "date                             object\n",
       "sales                             int64\n",
       "customers                         int64\n",
       "open                              int64\n",
       "promo                             int64\n",
       "state_holiday                    object\n",
       "school_holiday                    int64\n",
       "dtype: object"
      ]
     },
     "execution_count": 57,
     "metadata": {},
     "output_type": "execute_result"
    }
   ],
   "source": [
    "df1.dtypes"
   ]
  },
  {
   "cell_type": "markdown",
   "id": "c0091ef4",
   "metadata": {},
   "source": [
    "## 1.4. Check  NA's"
   ]
  },
  {
   "cell_type": "code",
   "execution_count": 61,
   "id": "45fe566e",
   "metadata": {
    "ExecuteTime": {
     "end_time": "2023-05-02T17:29:31.218083Z",
     "start_time": "2023-05-02T17:29:29.605462Z"
    }
   },
   "outputs": [
    {
     "data": {
      "text/plain": [
       "store                                0\n",
       "store_type                           0\n",
       "assortment                           0\n",
       "competition_distance              2642\n",
       "competition_open_since_month    323348\n",
       "competition_open_since_year     323348\n",
       "promo2                               0\n",
       "promo2_since_week               508031\n",
       "promo2_since_year               508031\n",
       "promo_interval                  508031\n",
       "day_of_week                          0\n",
       "date                                 0\n",
       "sales                                0\n",
       "customers                            0\n",
       "open                                 0\n",
       "promo                                0\n",
       "state_holiday                        0\n",
       "school_holiday                       0\n",
       "dtype: int64"
      ]
     },
     "execution_count": 61,
     "metadata": {},
     "output_type": "execute_result"
    }
   ],
   "source": [
    "df1.isna().sum()"
   ]
  },
  {
   "cell_type": "markdown",
   "id": "8eccee26",
   "metadata": {},
   "source": [
    "## 1.5. Fillout NA's"
   ]
  },
  {
   "cell_type": "code",
   "execution_count": 62,
   "id": "5c56e9cd",
   "metadata": {
    "ExecuteTime": {
     "end_time": "2023-05-02T17:31:22.788441Z",
     "start_time": "2023-05-02T17:31:22.585649Z"
    }
   },
   "outputs": [
    {
     "data": {
      "text/html": [
       "<div>\n",
       "<style scoped>\n",
       "    .dataframe tbody tr th:only-of-type {\n",
       "        vertical-align: middle;\n",
       "    }\n",
       "\n",
       "    .dataframe tbody tr th {\n",
       "        vertical-align: top;\n",
       "    }\n",
       "\n",
       "    .dataframe thead th {\n",
       "        text-align: right;\n",
       "    }\n",
       "</style>\n",
       "<table border=\"1\" class=\"dataframe\">\n",
       "  <thead>\n",
       "    <tr style=\"text-align: right;\">\n",
       "      <th></th>\n",
       "      <th>store</th>\n",
       "      <th>store_type</th>\n",
       "      <th>assortment</th>\n",
       "      <th>competition_distance</th>\n",
       "      <th>competition_open_since_month</th>\n",
       "      <th>competition_open_since_year</th>\n",
       "      <th>promo2</th>\n",
       "      <th>promo2_since_week</th>\n",
       "      <th>promo2_since_year</th>\n",
       "      <th>promo_interval</th>\n",
       "      <th>day_of_week</th>\n",
       "      <th>date</th>\n",
       "      <th>sales</th>\n",
       "      <th>customers</th>\n",
       "      <th>open</th>\n",
       "      <th>promo</th>\n",
       "      <th>state_holiday</th>\n",
       "      <th>school_holiday</th>\n",
       "    </tr>\n",
       "  </thead>\n",
       "  <tbody>\n",
       "    <tr>\n",
       "      <th>668024</th>\n",
       "      <td>734</td>\n",
       "      <td>a</td>\n",
       "      <td>a</td>\n",
       "      <td>220.0</td>\n",
       "      <td>NaN</td>\n",
       "      <td>NaN</td>\n",
       "      <td>1</td>\n",
       "      <td>36.0</td>\n",
       "      <td>2013.0</td>\n",
       "      <td>Mar,Jun,Sept,Dec</td>\n",
       "      <td>1</td>\n",
       "      <td>2014-08-11</td>\n",
       "      <td>5259</td>\n",
       "      <td>525</td>\n",
       "      <td>1</td>\n",
       "      <td>0</td>\n",
       "      <td>0</td>\n",
       "      <td>1</td>\n",
       "    </tr>\n",
       "  </tbody>\n",
       "</table>\n",
       "</div>"
      ],
      "text/plain": [
       "        store store_type assortment  competition_distance  \\\n",
       "668024    734          a          a                 220.0   \n",
       "\n",
       "        competition_open_since_month  competition_open_since_year  promo2  \\\n",
       "668024                           NaN                          NaN       1   \n",
       "\n",
       "        promo2_since_week  promo2_since_year    promo_interval  day_of_week  \\\n",
       "668024               36.0             2013.0  Mar,Jun,Sept,Dec            1   \n",
       "\n",
       "             date  sales  customers  open  promo state_holiday  school_holiday  \n",
       "668024 2014-08-11   5259        525     1      0             0               1  "
      ]
     },
     "execution_count": 62,
     "metadata": {},
     "output_type": "execute_result"
    }
   ],
   "source": [
    "df1.sample()"
   ]
  },
  {
   "cell_type": "code",
   "execution_count": null,
   "id": "301f19cb",
   "metadata": {},
   "outputs": [],
   "source": [
    "# competition_distance              2642\n",
    "# competition_open_since_month    323348\n",
    "# competition_open_since_year     323348\n",
    "# promo2_since_week               508031\n",
    "# promo2_since_year               508031\n",
    "# promo_interval                  508031"
   ]
  },
  {
   "cell_type": "markdown",
   "id": "140136e9",
   "metadata": {
    "heading_collapsed": true
   },
   "source": [
    "## 1.6. Change Data Types"
   ]
  },
  {
   "cell_type": "code",
   "execution_count": 58,
   "id": "58533677",
   "metadata": {
    "ExecuteTime": {
     "end_time": "2023-05-02T17:15:36.087603Z",
     "start_time": "2023-05-02T17:15:34.798516Z"
    },
    "hidden": true
   },
   "outputs": [
    {
     "data": {
      "text/plain": [
       "store                                    int64\n",
       "store_type                              object\n",
       "assortment                              object\n",
       "competition_distance                   float64\n",
       "competition_open_since_month           float64\n",
       "competition_open_since_year            float64\n",
       "promo2                                   int64\n",
       "promo2_since_week                      float64\n",
       "promo2_since_year                      float64\n",
       "promo_interval                          object\n",
       "day_of_week                              int64\n",
       "date                            datetime64[ns]\n",
       "sales                                    int64\n",
       "customers                                int64\n",
       "open                                     int64\n",
       "promo                                    int64\n",
       "state_holiday                           object\n",
       "school_holiday                           int64\n",
       "dtype: object"
      ]
     },
     "execution_count": 58,
     "metadata": {},
     "output_type": "execute_result"
    }
   ],
   "source": [
    "# Change Date types\n",
    "df1['date'] = pd.to_datetime(df1['date'])\n",
    "df1.dtypes"
   ]
  },
  {
   "cell_type": "markdown",
   "id": "e7d4e0eb",
   "metadata": {},
   "source": [
    "## 1.7. Descriptive Statics"
   ]
  },
  {
   "cell_type": "markdown",
   "id": "a7131ea9",
   "metadata": {},
   "source": [
    "# 2. PASSO 02 - FEATURE ENGINEERING"
   ]
  },
  {
   "cell_type": "markdown",
   "id": "320db1e4",
   "metadata": {},
   "source": [
    "# 3. PASSO 03 - FILTRAGEM DE VARIÁVEIS"
   ]
  },
  {
   "cell_type": "markdown",
   "id": "4c4f435d",
   "metadata": {},
   "source": [
    "# 4. PASSO 04 - EXPLORATORY DATA ANALYSIS"
   ]
  },
  {
   "cell_type": "markdown",
   "id": "0497cdf4",
   "metadata": {},
   "source": [
    "# 5. PASSO 05  - DATA PREPARATION"
   ]
  },
  {
   "cell_type": "markdown",
   "id": "605f7e02",
   "metadata": {},
   "source": [
    "# 6. PASSO 06 - FEATURE SELECTION"
   ]
  },
  {
   "cell_type": "markdown",
   "id": "c8d8aa91",
   "metadata": {},
   "source": [
    "# 7. PASSO 07  - MACHINE LEARNING MODELING"
   ]
  },
  {
   "cell_type": "markdown",
   "id": "9413355e",
   "metadata": {},
   "source": [
    "# 8. PASSO 08  - HYPERPARAMETER FINE TUNINGG"
   ]
  },
  {
   "cell_type": "markdown",
   "id": "767b544f",
   "metadata": {},
   "source": [
    "# 9. PASSO 09 - ERROR TRANSLATION AND INTERPRETATION"
   ]
  }
 ],
 "metadata": {
  "kernelspec": {
   "display_name": "Python 3 (ipykernel)",
   "language": "python",
   "name": "python3"
  },
  "language_info": {
   "codemirror_mode": {
    "name": "ipython",
    "version": 3
   },
   "file_extension": ".py",
   "mimetype": "text/x-python",
   "name": "python",
   "nbconvert_exporter": "python",
   "pygments_lexer": "ipython3",
   "version": "3.9.12"
  }
 },
 "nbformat": 4,
 "nbformat_minor": 5
}
