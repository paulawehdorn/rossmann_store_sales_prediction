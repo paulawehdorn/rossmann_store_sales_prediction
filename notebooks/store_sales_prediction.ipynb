{
 "cells": [
  {
   "cell_type": "markdown",
   "id": "9455efcb",
   "metadata": {
    "heading_collapsed": true
   },
   "source": [
    "# 1. Sobre o projeto"
   ]
  },
  {
   "cell_type": "markdown",
   "id": "6c29e541",
   "metadata": {
    "hidden": true
   },
   "source": [
    "Tópicos para entender os problemas do negócio\n",
    "\n",
    "1. Motivação:\n",
    "- Qual é o contexto?\n",
    "- A previsão de vendas foi requisitada pelo CFO em uma reunião mensal sobre os resultados das lojas\n",
    "\n",
    "2. A causa raiz do problema\n",
    "- Por que fazer uma previsão de vendas?\n",
    "Dificuldade em determinar o valor do investimento para reformas de cada loja\n",
    "\n",
    "3. Quem é o dono do problema\n",
    "- Quem será o stakeholder?\n",
    "Diretor Financeiro (CFO) da Rossmann\n",
    "\n",
    "4. O formato da solução\n",
    "- Qual o formato da solução?\n",
    "  - Granularidade: Previsão de vendas por dia por loja para as próximas 42 dias, 6 semanas\n",
    "  - Tipo de problema: Previsão de vendas\n",
    "  - Potenciais métodos: Séries temporais\n",
    "  - Formato da entrega: \n",
    "  1. O Valor total das vendas no final de 6 semanas por loja\n",
    "  2. Poder acompanhar pelo celular \n",
    "  \n",
    "Escrever"
   ]
  },
  {
   "cell_type": "code",
   "execution_count": null,
   "id": "16caed62",
   "metadata": {
    "hidden": true
   },
   "outputs": [],
   "source": []
  },
  {
   "cell_type": "markdown",
   "id": "9910602e",
   "metadata": {
    "hidden": true
   },
   "source": [
    "### 1.1. Contexto do Problema de Negócio"
   ]
  },
  {
   "cell_type": "markdown",
   "id": "27818cb8",
   "metadata": {
    "hidden": true
   },
   "source": [
    "### 1.2. O Desafio"
   ]
  },
  {
   "cell_type": "markdown",
   "id": "3e7b9cd8",
   "metadata": {
    "hidden": true
   },
   "source": [
    "Formato da solução\n",
    "- Vendas diárias em R$, nas próximas 6 semanas\n",
    "- Problemas de predição\n",
    "- Time series, regressão e neural network\n",
    "- Predição acessadas via celular"
   ]
  },
  {
   "cell_type": "markdown",
   "id": "07e14681",
   "metadata": {},
   "source": [
    "# 2. Entendimento e preparação dos dados"
   ]
  },
  {
   "cell_type": "markdown",
   "id": "bc64685f",
   "metadata": {
    "heading_collapsed": true
   },
   "source": [
    "### 2.1. Exportar os dados da fonte"
   ]
  },
  {
   "cell_type": "markdown",
   "id": "7839fc14",
   "metadata": {
    "heading_collapsed": true
   },
   "source": [
    "### 2.2. Importar os dados e as bibliotecas"
   ]
  },
  {
   "cell_type": "code",
   "execution_count": 5,
   "id": "76bd9552",
   "metadata": {
    "ExecuteTime": {
     "end_time": "2023-04-13T13:00:23.057194Z",
     "start_time": "2023-04-13T13:00:23.044198Z"
    },
    "hidden": true
   },
   "outputs": [],
   "source": [
    "#!pip install inflection"
   ]
  },
  {
   "cell_type": "code",
   "execution_count": 36,
   "id": "57a43edf",
   "metadata": {
    "ExecuteTime": {
     "end_time": "2023-04-13T14:15:05.773405Z",
     "start_time": "2023-04-13T14:15:05.692716Z"
    },
    "hidden": true
   },
   "outputs": [],
   "source": [
    "import inflection\n",
    "import math\n",
    "\n",
    "import pandas as pd\n",
    "import numpy as np\n",
    "import seaborn as sns\n",
    "\n",
    "from matplotlib import pyplot as plt\n",
    "from IPython.core.display import HTML\n",
    "from IPython.display import Image"
   ]
  },
  {
   "cell_type": "code",
   "execution_count": 7,
   "id": "5a4d1888",
   "metadata": {
    "ExecuteTime": {
     "end_time": "2023-04-13T13:00:26.048035Z",
     "start_time": "2023-04-13T13:00:23.098203Z"
    },
    "hidden": true
   },
   "outputs": [],
   "source": [
    "df_sales_raw = pd.read_csv('datasets/train.csv', low_memory=False)\n",
    "df_store_raw = pd.read_csv('datasets/store.csv', low_memory=False)\n",
    "\n",
    "df_raw = pd.merge(df_sales_raw, df_store_raw, how='left', on='Store')"
   ]
  },
  {
   "cell_type": "code",
   "execution_count": 8,
   "id": "1ddee0cd",
   "metadata": {
    "ExecuteTime": {
     "end_time": "2023-04-13T13:00:26.756326Z",
     "start_time": "2023-04-13T13:00:26.058040Z"
    },
    "hidden": true
   },
   "outputs": [
    {
     "data": {
      "text/html": [
       "<div>\n",
       "<style scoped>\n",
       "    .dataframe tbody tr th:only-of-type {\n",
       "        vertical-align: middle;\n",
       "    }\n",
       "\n",
       "    .dataframe tbody tr th {\n",
       "        vertical-align: top;\n",
       "    }\n",
       "\n",
       "    .dataframe thead th {\n",
       "        text-align: right;\n",
       "    }\n",
       "</style>\n",
       "<table border=\"1\" class=\"dataframe\">\n",
       "  <thead>\n",
       "    <tr style=\"text-align: right;\">\n",
       "      <th></th>\n",
       "      <th>Store</th>\n",
       "      <th>DayOfWeek</th>\n",
       "      <th>Date</th>\n",
       "      <th>Sales</th>\n",
       "      <th>Customers</th>\n",
       "      <th>Open</th>\n",
       "      <th>Promo</th>\n",
       "      <th>StateHoliday</th>\n",
       "      <th>SchoolHoliday</th>\n",
       "      <th>StoreType</th>\n",
       "      <th>Assortment</th>\n",
       "      <th>CompetitionDistance</th>\n",
       "      <th>CompetitionOpenSinceMonth</th>\n",
       "      <th>CompetitionOpenSinceYear</th>\n",
       "      <th>Promo2</th>\n",
       "      <th>Promo2SinceWeek</th>\n",
       "      <th>Promo2SinceYear</th>\n",
       "      <th>PromoInterval</th>\n",
       "    </tr>\n",
       "  </thead>\n",
       "  <tbody>\n",
       "    <tr>\n",
       "      <th>0</th>\n",
       "      <td>1</td>\n",
       "      <td>5</td>\n",
       "      <td>2015-07-31</td>\n",
       "      <td>5263</td>\n",
       "      <td>555</td>\n",
       "      <td>1</td>\n",
       "      <td>1</td>\n",
       "      <td>0</td>\n",
       "      <td>1</td>\n",
       "      <td>c</td>\n",
       "      <td>a</td>\n",
       "      <td>1270.0</td>\n",
       "      <td>9.0</td>\n",
       "      <td>2008.0</td>\n",
       "      <td>0</td>\n",
       "      <td>NaN</td>\n",
       "      <td>NaN</td>\n",
       "      <td>NaN</td>\n",
       "    </tr>\n",
       "    <tr>\n",
       "      <th>1</th>\n",
       "      <td>2</td>\n",
       "      <td>5</td>\n",
       "      <td>2015-07-31</td>\n",
       "      <td>6064</td>\n",
       "      <td>625</td>\n",
       "      <td>1</td>\n",
       "      <td>1</td>\n",
       "      <td>0</td>\n",
       "      <td>1</td>\n",
       "      <td>a</td>\n",
       "      <td>a</td>\n",
       "      <td>570.0</td>\n",
       "      <td>11.0</td>\n",
       "      <td>2007.0</td>\n",
       "      <td>1</td>\n",
       "      <td>13.0</td>\n",
       "      <td>2010.0</td>\n",
       "      <td>Jan,Apr,Jul,Oct</td>\n",
       "    </tr>\n",
       "    <tr>\n",
       "      <th>2</th>\n",
       "      <td>3</td>\n",
       "      <td>5</td>\n",
       "      <td>2015-07-31</td>\n",
       "      <td>8314</td>\n",
       "      <td>821</td>\n",
       "      <td>1</td>\n",
       "      <td>1</td>\n",
       "      <td>0</td>\n",
       "      <td>1</td>\n",
       "      <td>a</td>\n",
       "      <td>a</td>\n",
       "      <td>14130.0</td>\n",
       "      <td>12.0</td>\n",
       "      <td>2006.0</td>\n",
       "      <td>1</td>\n",
       "      <td>14.0</td>\n",
       "      <td>2011.0</td>\n",
       "      <td>Jan,Apr,Jul,Oct</td>\n",
       "    </tr>\n",
       "    <tr>\n",
       "      <th>3</th>\n",
       "      <td>4</td>\n",
       "      <td>5</td>\n",
       "      <td>2015-07-31</td>\n",
       "      <td>13995</td>\n",
       "      <td>1498</td>\n",
       "      <td>1</td>\n",
       "      <td>1</td>\n",
       "      <td>0</td>\n",
       "      <td>1</td>\n",
       "      <td>c</td>\n",
       "      <td>c</td>\n",
       "      <td>620.0</td>\n",
       "      <td>9.0</td>\n",
       "      <td>2009.0</td>\n",
       "      <td>0</td>\n",
       "      <td>NaN</td>\n",
       "      <td>NaN</td>\n",
       "      <td>NaN</td>\n",
       "    </tr>\n",
       "    <tr>\n",
       "      <th>4</th>\n",
       "      <td>5</td>\n",
       "      <td>5</td>\n",
       "      <td>2015-07-31</td>\n",
       "      <td>4822</td>\n",
       "      <td>559</td>\n",
       "      <td>1</td>\n",
       "      <td>1</td>\n",
       "      <td>0</td>\n",
       "      <td>1</td>\n",
       "      <td>a</td>\n",
       "      <td>a</td>\n",
       "      <td>29910.0</td>\n",
       "      <td>4.0</td>\n",
       "      <td>2015.0</td>\n",
       "      <td>0</td>\n",
       "      <td>NaN</td>\n",
       "      <td>NaN</td>\n",
       "      <td>NaN</td>\n",
       "    </tr>\n",
       "  </tbody>\n",
       "</table>\n",
       "</div>"
      ],
      "text/plain": [
       "   Store  DayOfWeek        Date  Sales  Customers  Open  Promo StateHoliday  \\\n",
       "0      1          5  2015-07-31   5263        555     1      1            0   \n",
       "1      2          5  2015-07-31   6064        625     1      1            0   \n",
       "2      3          5  2015-07-31   8314        821     1      1            0   \n",
       "3      4          5  2015-07-31  13995       1498     1      1            0   \n",
       "4      5          5  2015-07-31   4822        559     1      1            0   \n",
       "\n",
       "   SchoolHoliday StoreType Assortment  CompetitionDistance  \\\n",
       "0              1         c          a               1270.0   \n",
       "1              1         a          a                570.0   \n",
       "2              1         a          a              14130.0   \n",
       "3              1         c          c                620.0   \n",
       "4              1         a          a              29910.0   \n",
       "\n",
       "   CompetitionOpenSinceMonth  CompetitionOpenSinceYear  Promo2  \\\n",
       "0                        9.0                    2008.0       0   \n",
       "1                       11.0                    2007.0       1   \n",
       "2                       12.0                    2006.0       1   \n",
       "3                        9.0                    2009.0       0   \n",
       "4                        4.0                    2015.0       0   \n",
       "\n",
       "   Promo2SinceWeek  Promo2SinceYear    PromoInterval  \n",
       "0              NaN              NaN              NaN  \n",
       "1             13.0           2010.0  Jan,Apr,Jul,Oct  \n",
       "2             14.0           2011.0  Jan,Apr,Jul,Oct  \n",
       "3              NaN              NaN              NaN  \n",
       "4              NaN              NaN              NaN  "
      ]
     },
     "execution_count": 8,
     "metadata": {},
     "output_type": "execute_result"
    }
   ],
   "source": [
    "df = df_raw.copy()\n",
    "df.head()"
   ]
  },
  {
   "cell_type": "markdown",
   "id": "56c079a1",
   "metadata": {},
   "source": [
    "# 3. Análise e modelagem"
   ]
  },
  {
   "cell_type": "markdown",
   "id": "7c5c72c6",
   "metadata": {},
   "source": [
    "### 3.1. Análise exploratória"
   ]
  },
  {
   "cell_type": "code",
   "execution_count": 9,
   "id": "797d24ed",
   "metadata": {
    "ExecuteTime": {
     "end_time": "2023-04-13T13:00:28.909880Z",
     "start_time": "2023-04-13T13:00:26.762329Z"
    }
   },
   "outputs": [
    {
     "data": {
      "text/plain": [
       "Store                             0\n",
       "DayOfWeek                         0\n",
       "Date                              0\n",
       "Sales                             0\n",
       "Customers                         0\n",
       "Open                              0\n",
       "Promo                             0\n",
       "StateHoliday                      0\n",
       "SchoolHoliday                     0\n",
       "StoreType                         0\n",
       "Assortment                        0\n",
       "CompetitionDistance            2642\n",
       "CompetitionOpenSinceMonth    323348\n",
       "CompetitionOpenSinceYear     323348\n",
       "Promo2                            0\n",
       "Promo2SinceWeek              508031\n",
       "Promo2SinceYear              508031\n",
       "PromoInterval                508031\n",
       "dtype: int64"
      ]
     },
     "execution_count": 9,
     "metadata": {},
     "output_type": "execute_result"
    }
   ],
   "source": [
    "# Verifica NA's\n",
    "df.isna().sum()"
   ]
  },
  {
   "cell_type": "code",
   "execution_count": 10,
   "id": "e2650a97",
   "metadata": {
    "ExecuteTime": {
     "end_time": "2023-04-13T13:00:28.941886Z",
     "start_time": "2023-04-13T13:00:28.916890Z"
    }
   },
   "outputs": [
    {
     "data": {
      "text/plain": [
       "Store                          int64\n",
       "DayOfWeek                      int64\n",
       "Date                          object\n",
       "Sales                          int64\n",
       "Customers                      int64\n",
       "Open                           int64\n",
       "Promo                          int64\n",
       "StateHoliday                  object\n",
       "SchoolHoliday                  int64\n",
       "StoreType                     object\n",
       "Assortment                    object\n",
       "CompetitionDistance          float64\n",
       "CompetitionOpenSinceMonth    float64\n",
       "CompetitionOpenSinceYear     float64\n",
       "Promo2                         int64\n",
       "Promo2SinceWeek              float64\n",
       "Promo2SinceYear              float64\n",
       "PromoInterval                 object\n",
       "dtype: object"
      ]
     },
     "execution_count": 10,
     "metadata": {},
     "output_type": "execute_result"
    }
   ],
   "source": [
    "# Verifica tipos de dados\n",
    "df.dtypes"
   ]
  },
  {
   "cell_type": "code",
   "execution_count": 11,
   "id": "16407e48",
   "metadata": {
    "ExecuteTime": {
     "end_time": "2023-04-13T13:00:29.132954Z",
     "start_time": "2023-04-13T13:00:28.954890Z"
    },
    "scrolled": true
   },
   "outputs": [
    {
     "data": {
      "text/html": [
       "<div>\n",
       "<style scoped>\n",
       "    .dataframe tbody tr th:only-of-type {\n",
       "        vertical-align: middle;\n",
       "    }\n",
       "\n",
       "    .dataframe tbody tr th {\n",
       "        vertical-align: top;\n",
       "    }\n",
       "\n",
       "    .dataframe thead th {\n",
       "        text-align: right;\n",
       "    }\n",
       "</style>\n",
       "<table border=\"1\" class=\"dataframe\">\n",
       "  <thead>\n",
       "    <tr style=\"text-align: right;\">\n",
       "      <th></th>\n",
       "      <th>270936</th>\n",
       "      <th>395661</th>\n",
       "      <th>699519</th>\n",
       "      <th>657915</th>\n",
       "      <th>21111</th>\n",
       "    </tr>\n",
       "  </thead>\n",
       "  <tbody>\n",
       "    <tr>\n",
       "      <th>Store</th>\n",
       "      <td>1070</td>\n",
       "      <td>394</td>\n",
       "      <td>85</td>\n",
       "      <td>851</td>\n",
       "      <td>1042</td>\n",
       "    </tr>\n",
       "    <tr>\n",
       "      <th>DayOfWeek</th>\n",
       "      <td>2</td>\n",
       "      <td>1</td>\n",
       "      <td>6</td>\n",
       "      <td>2</td>\n",
       "      <td>1</td>\n",
       "    </tr>\n",
       "    <tr>\n",
       "      <th>Date</th>\n",
       "      <td>2014-11-25</td>\n",
       "      <td>2014-07-14</td>\n",
       "      <td>2013-10-12</td>\n",
       "      <td>2013-11-19</td>\n",
       "      <td>2015-07-13</td>\n",
       "    </tr>\n",
       "    <tr>\n",
       "      <th>Sales</th>\n",
       "      <td>7669</td>\n",
       "      <td>10021</td>\n",
       "      <td>5272</td>\n",
       "      <td>5530</td>\n",
       "      <td>5200</td>\n",
       "    </tr>\n",
       "    <tr>\n",
       "      <th>Customers</th>\n",
       "      <td>882</td>\n",
       "      <td>706</td>\n",
       "      <td>727</td>\n",
       "      <td>469</td>\n",
       "      <td>576</td>\n",
       "    </tr>\n",
       "    <tr>\n",
       "      <th>Open</th>\n",
       "      <td>1</td>\n",
       "      <td>1</td>\n",
       "      <td>1</td>\n",
       "      <td>1</td>\n",
       "      <td>1</td>\n",
       "    </tr>\n",
       "    <tr>\n",
       "      <th>Promo</th>\n",
       "      <td>1</td>\n",
       "      <td>1</td>\n",
       "      <td>0</td>\n",
       "      <td>1</td>\n",
       "      <td>1</td>\n",
       "    </tr>\n",
       "    <tr>\n",
       "      <th>StateHoliday</th>\n",
       "      <td>0</td>\n",
       "      <td>0</td>\n",
       "      <td>0</td>\n",
       "      <td>0</td>\n",
       "      <td>0</td>\n",
       "    </tr>\n",
       "    <tr>\n",
       "      <th>SchoolHoliday</th>\n",
       "      <td>0</td>\n",
       "      <td>0</td>\n",
       "      <td>0</td>\n",
       "      <td>0</td>\n",
       "      <td>1</td>\n",
       "    </tr>\n",
       "    <tr>\n",
       "      <th>StoreType</th>\n",
       "      <td>c</td>\n",
       "      <td>d</td>\n",
       "      <td>b</td>\n",
       "      <td>d</td>\n",
       "      <td>a</td>\n",
       "    </tr>\n",
       "    <tr>\n",
       "      <th>Assortment</th>\n",
       "      <td>c</td>\n",
       "      <td>a</td>\n",
       "      <td>a</td>\n",
       "      <td>c</td>\n",
       "      <td>a</td>\n",
       "    </tr>\n",
       "    <tr>\n",
       "      <th>CompetitionDistance</th>\n",
       "      <td>400.0</td>\n",
       "      <td>10850.0</td>\n",
       "      <td>1870.0</td>\n",
       "      <td>2330.0</td>\n",
       "      <td>3440.0</td>\n",
       "    </tr>\n",
       "    <tr>\n",
       "      <th>CompetitionOpenSinceMonth</th>\n",
       "      <td>10.0</td>\n",
       "      <td>NaN</td>\n",
       "      <td>10.0</td>\n",
       "      <td>NaN</td>\n",
       "      <td>NaN</td>\n",
       "    </tr>\n",
       "    <tr>\n",
       "      <th>CompetitionOpenSinceYear</th>\n",
       "      <td>2008.0</td>\n",
       "      <td>NaN</td>\n",
       "      <td>2011.0</td>\n",
       "      <td>NaN</td>\n",
       "      <td>NaN</td>\n",
       "    </tr>\n",
       "    <tr>\n",
       "      <th>Promo2</th>\n",
       "      <td>0</td>\n",
       "      <td>0</td>\n",
       "      <td>0</td>\n",
       "      <td>1</td>\n",
       "      <td>1</td>\n",
       "    </tr>\n",
       "    <tr>\n",
       "      <th>Promo2SinceWeek</th>\n",
       "      <td>NaN</td>\n",
       "      <td>NaN</td>\n",
       "      <td>NaN</td>\n",
       "      <td>49.0</td>\n",
       "      <td>31.0</td>\n",
       "    </tr>\n",
       "    <tr>\n",
       "      <th>Promo2SinceYear</th>\n",
       "      <td>NaN</td>\n",
       "      <td>NaN</td>\n",
       "      <td>NaN</td>\n",
       "      <td>2014.0</td>\n",
       "      <td>2013.0</td>\n",
       "    </tr>\n",
       "    <tr>\n",
       "      <th>PromoInterval</th>\n",
       "      <td>NaN</td>\n",
       "      <td>NaN</td>\n",
       "      <td>NaN</td>\n",
       "      <td>Mar,Jun,Sept,Dec</td>\n",
       "      <td>Feb,May,Aug,Nov</td>\n",
       "    </tr>\n",
       "  </tbody>\n",
       "</table>\n",
       "</div>"
      ],
      "text/plain": [
       "                               270936      395661      699519  \\\n",
       "Store                            1070         394          85   \n",
       "DayOfWeek                           2           1           6   \n",
       "Date                       2014-11-25  2014-07-14  2013-10-12   \n",
       "Sales                            7669       10021        5272   \n",
       "Customers                         882         706         727   \n",
       "Open                                1           1           1   \n",
       "Promo                               1           1           0   \n",
       "StateHoliday                        0           0           0   \n",
       "SchoolHoliday                       0           0           0   \n",
       "StoreType                           c           d           b   \n",
       "Assortment                          c           a           a   \n",
       "CompetitionDistance             400.0     10850.0      1870.0   \n",
       "CompetitionOpenSinceMonth        10.0         NaN        10.0   \n",
       "CompetitionOpenSinceYear       2008.0         NaN      2011.0   \n",
       "Promo2                              0           0           0   \n",
       "Promo2SinceWeek                   NaN         NaN         NaN   \n",
       "Promo2SinceYear                   NaN         NaN         NaN   \n",
       "PromoInterval                     NaN         NaN         NaN   \n",
       "\n",
       "                                     657915           21111   \n",
       "Store                                   851             1042  \n",
       "DayOfWeek                                 2                1  \n",
       "Date                             2013-11-19       2015-07-13  \n",
       "Sales                                  5530             5200  \n",
       "Customers                               469              576  \n",
       "Open                                      1                1  \n",
       "Promo                                     1                1  \n",
       "StateHoliday                              0                0  \n",
       "SchoolHoliday                             0                1  \n",
       "StoreType                                 d                a  \n",
       "Assortment                                c                a  \n",
       "CompetitionDistance                  2330.0           3440.0  \n",
       "CompetitionOpenSinceMonth               NaN              NaN  \n",
       "CompetitionOpenSinceYear                NaN              NaN  \n",
       "Promo2                                    1                1  \n",
       "Promo2SinceWeek                        49.0             31.0  \n",
       "Promo2SinceYear                      2014.0           2013.0  \n",
       "PromoInterval              Mar,Jun,Sept,Dec  Feb,May,Aug,Nov  "
      ]
     },
     "execution_count": 11,
     "metadata": {},
     "output_type": "execute_result"
    }
   ],
   "source": [
    "df.sample(5).T"
   ]
  },
  {
   "cell_type": "markdown",
   "id": "94ebbf1d",
   "metadata": {},
   "source": [
    "### 3.2. Tratamento e preparação dos dados"
   ]
  },
  {
   "cell_type": "markdown",
   "id": "92fdfb18",
   "metadata": {},
   "source": [
    "#### 3.2.1. Funções "
   ]
  },
  {
   "cell_type": "code",
   "execution_count": 12,
   "id": "0895b7e9",
   "metadata": {
    "ExecuteTime": {
     "end_time": "2023-04-13T13:00:29.179952Z",
     "start_time": "2023-04-13T13:00:29.141948Z"
    }
   },
   "outputs": [],
   "source": [
    "# Função para renomear as colunas do dataframe\n",
    "def rename_columns(df_aux):\n",
    "#    df_aux = dataframe.copy()\n",
    "    title = lambda x: inflection.titleize(x)\n",
    "    snakecase = lambda x: inflection.underscore(x)\n",
    "    spaces = lambda x: x.replace(\" \", \"\")\n",
    "    cols_old = list(df_aux.columns)\n",
    "    cols_old = list(map(title, cols_old))\n",
    "    cols_old = list(map(spaces, cols_old))\n",
    "    cols_new = list(map(snakecase, cols_old))\n",
    "    df_aux.columns = cols_new\n",
    "    return df_aux    "
   ]
  },
  {
   "cell_type": "markdown",
   "id": "d26365ad",
   "metadata": {},
   "source": [
    "#### 3.2.2. Limpeza, preenchimento e modificação dos dados"
   ]
  },
  {
   "cell_type": "markdown",
   "id": "9ef82c38",
   "metadata": {},
   "source": [
    "Fill NA's\n",
    "\n",
    "- competition_distance 2642 (NA's) | max = 75860.0\n",
    "- CompetitionDistance - distance in meters to the nearest competitor store\n",
    "- Considerando a hipótese de que os NA's desse campo significam que não há concorrência próxima\n",
    "- CompetitionOpenSince[Month/Year] - gives the approximate year and month of the time the nearest competitor was opened\n",
    "- competition_open_since_month    323348\n",
    "- competition_open_since_year     323348\n",
    "- Promo2Since[Year/Week] - describes the year and calendar week when the store started participating in Promo2\n",
    "- promo2_since_week               508031\n",
    "- promo2_since_year               508031\n",
    "- promo_interval                  508031\n",
    "- PromoInterval - describes the consecutive intervals Promo2 is started, naming the months the promotion is started anew. # E.g. \"Feb,May,Aug,Nov\" means each round starts in February, May, August, November of any given year for that store"
   ]
  },
  {
   "cell_type": "code",
   "execution_count": 13,
   "id": "311612c4",
   "metadata": {
    "ExecuteTime": {
     "end_time": "2023-04-13T13:00:29.561460Z",
     "start_time": "2023-04-13T13:00:29.196958Z"
    }
   },
   "outputs": [],
   "source": [
    "# Modifica os nomes das colunas\n",
    "df = rename_columns(df)\n",
    "\n",
    "# Modifica 'date' para o formato datetime\n",
    "df['date'] =  pd.to_datetime(df['date'])"
   ]
  },
  {
   "cell_type": "code",
   "execution_count": 14,
   "id": "93007889",
   "metadata": {
    "ExecuteTime": {
     "end_time": "2023-04-13T13:04:42.706623Z",
     "start_time": "2023-04-13T13:00:29.567461Z"
    }
   },
   "outputs": [],
   "source": [
    "# Preenche a coluna competition_distance\n",
    "df['competition_distance'] = df['competition_distance'].apply(lambda x: 200000.0 if math.isnan(x) else x)\n",
    "\n",
    "# Preenche a coluna competition_open_since_month\n",
    "df['competition_open_since_month'] = df.apply(lambda x: x['date'].month if math.isnan(x['competition_open_since_month']) else x['competition_open_since_month'], axis = 1)\n",
    "\n",
    "# Preenche a coluna competition_open_since_year\n",
    "df['competition_open_since_year'] = df.apply(lambda x: x['date'].year if math.isnan(x['competition_open_since_year']) else x['competition_open_since_year'], axis=1)\n",
    "\n",
    "# Preenche a coluna promo2_since_week\n",
    "df['promo2_since_week'] = df.apply(lambda x: x['date'].week if math.isnan(x['promo2_since_week']) else x['promo2_since_week'], axis=1)\n",
    "\n",
    "# Preenche a coluna promo2_since_year\n",
    "df['promo2_since_year'] = df.apply(lambda x: x['date'].year if math.isnan(x['promo2_since_year']) else x['promo2_since_year'], axis=1)\n",
    "\n",
    "# Preenche a coluna promo_interval\n",
    "month_map = {1:'Jan', 2:'Feb', 3:'Mar', 4:'Apr', 5:'May', 6:'Jun', 7:'Jul', 8:'Aug', 9:'Sept', 10:'Oct', 11:'Nov', 12:'Dec'}\n",
    "\n",
    "df['promo_interval'].fillna(0, inplace=True)\n",
    "df['month_map'] = df['date'].dt.month.map(month_map)\n",
    "\n",
    "df['is_promo'] = df[['promo_interval', 'month_map']].apply(lambda x: 0 if x['promo_interval'] == 0 else 1 if x['month_map'] in x['promo_interval'].split(',') else 0, axis=1)"
   ]
  },
  {
   "cell_type": "code",
   "execution_count": 15,
   "id": "b80c3b46",
   "metadata": {
    "ExecuteTime": {
     "end_time": "2023-04-13T13:04:42.880600Z",
     "start_time": "2023-04-13T13:04:42.717061Z"
    }
   },
   "outputs": [],
   "source": [
    "# Modifica 'competition_open_since_month' para o formato int\n",
    "df['competition_open_since_month'] = df['competition_open_since_month'].astype(int)\n",
    "\n",
    "# Modifica 'competition_open_since_year' para o formato int\n",
    "df['competition_open_since_year'] = df['competition_open_since_year'].astype(int)\n",
    "\n",
    "# Modifica 'promo2_since_week' para o formato int\n",
    "df['promo2_since_week'] = df['promo2_since_week'].astype(int)\n",
    "\n",
    "# Modifica 'promo2_since_year' para o formato int\n",
    "df['promo2_since_year'] = df['promo2_since_year'].astype(int)"
   ]
  },
  {
   "cell_type": "code",
   "execution_count": 16,
   "id": "59d9bf4a",
   "metadata": {
    "ExecuteTime": {
     "end_time": "2023-04-13T13:04:42.991121Z",
     "start_time": "2023-04-13T13:04:42.888598Z"
    }
   },
   "outputs": [
    {
     "data": {
      "text/html": [
       "<div>\n",
       "<style scoped>\n",
       "    .dataframe tbody tr th:only-of-type {\n",
       "        vertical-align: middle;\n",
       "    }\n",
       "\n",
       "    .dataframe tbody tr th {\n",
       "        vertical-align: top;\n",
       "    }\n",
       "\n",
       "    .dataframe thead th {\n",
       "        text-align: right;\n",
       "    }\n",
       "</style>\n",
       "<table border=\"1\" class=\"dataframe\">\n",
       "  <thead>\n",
       "    <tr style=\"text-align: right;\">\n",
       "      <th></th>\n",
       "      <th>store</th>\n",
       "      <th>day_of_week</th>\n",
       "      <th>date</th>\n",
       "      <th>sales</th>\n",
       "      <th>customers</th>\n",
       "      <th>open</th>\n",
       "      <th>promo</th>\n",
       "      <th>state_holiday</th>\n",
       "      <th>school_holiday</th>\n",
       "      <th>store_type</th>\n",
       "      <th>assortment</th>\n",
       "      <th>competition_distance</th>\n",
       "      <th>competition_open_since_month</th>\n",
       "      <th>competition_open_since_year</th>\n",
       "      <th>promo2</th>\n",
       "      <th>promo2_since_week</th>\n",
       "      <th>promo2_since_year</th>\n",
       "      <th>promo_interval</th>\n",
       "      <th>month_map</th>\n",
       "      <th>is_promo</th>\n",
       "    </tr>\n",
       "  </thead>\n",
       "  <tbody>\n",
       "    <tr>\n",
       "      <th>0</th>\n",
       "      <td>1</td>\n",
       "      <td>5</td>\n",
       "      <td>2015-07-31</td>\n",
       "      <td>5263</td>\n",
       "      <td>555</td>\n",
       "      <td>1</td>\n",
       "      <td>1</td>\n",
       "      <td>0</td>\n",
       "      <td>1</td>\n",
       "      <td>c</td>\n",
       "      <td>a</td>\n",
       "      <td>1270.0</td>\n",
       "      <td>9</td>\n",
       "      <td>2008</td>\n",
       "      <td>0</td>\n",
       "      <td>31</td>\n",
       "      <td>2015</td>\n",
       "      <td>0</td>\n",
       "      <td>Jul</td>\n",
       "      <td>0</td>\n",
       "    </tr>\n",
       "    <tr>\n",
       "      <th>1</th>\n",
       "      <td>2</td>\n",
       "      <td>5</td>\n",
       "      <td>2015-07-31</td>\n",
       "      <td>6064</td>\n",
       "      <td>625</td>\n",
       "      <td>1</td>\n",
       "      <td>1</td>\n",
       "      <td>0</td>\n",
       "      <td>1</td>\n",
       "      <td>a</td>\n",
       "      <td>a</td>\n",
       "      <td>570.0</td>\n",
       "      <td>11</td>\n",
       "      <td>2007</td>\n",
       "      <td>1</td>\n",
       "      <td>13</td>\n",
       "      <td>2010</td>\n",
       "      <td>Jan,Apr,Jul,Oct</td>\n",
       "      <td>Jul</td>\n",
       "      <td>1</td>\n",
       "    </tr>\n",
       "    <tr>\n",
       "      <th>2</th>\n",
       "      <td>3</td>\n",
       "      <td>5</td>\n",
       "      <td>2015-07-31</td>\n",
       "      <td>8314</td>\n",
       "      <td>821</td>\n",
       "      <td>1</td>\n",
       "      <td>1</td>\n",
       "      <td>0</td>\n",
       "      <td>1</td>\n",
       "      <td>a</td>\n",
       "      <td>a</td>\n",
       "      <td>14130.0</td>\n",
       "      <td>12</td>\n",
       "      <td>2006</td>\n",
       "      <td>1</td>\n",
       "      <td>14</td>\n",
       "      <td>2011</td>\n",
       "      <td>Jan,Apr,Jul,Oct</td>\n",
       "      <td>Jul</td>\n",
       "      <td>1</td>\n",
       "    </tr>\n",
       "    <tr>\n",
       "      <th>3</th>\n",
       "      <td>4</td>\n",
       "      <td>5</td>\n",
       "      <td>2015-07-31</td>\n",
       "      <td>13995</td>\n",
       "      <td>1498</td>\n",
       "      <td>1</td>\n",
       "      <td>1</td>\n",
       "      <td>0</td>\n",
       "      <td>1</td>\n",
       "      <td>c</td>\n",
       "      <td>c</td>\n",
       "      <td>620.0</td>\n",
       "      <td>9</td>\n",
       "      <td>2009</td>\n",
       "      <td>0</td>\n",
       "      <td>31</td>\n",
       "      <td>2015</td>\n",
       "      <td>0</td>\n",
       "      <td>Jul</td>\n",
       "      <td>0</td>\n",
       "    </tr>\n",
       "    <tr>\n",
       "      <th>4</th>\n",
       "      <td>5</td>\n",
       "      <td>5</td>\n",
       "      <td>2015-07-31</td>\n",
       "      <td>4822</td>\n",
       "      <td>559</td>\n",
       "      <td>1</td>\n",
       "      <td>1</td>\n",
       "      <td>0</td>\n",
       "      <td>1</td>\n",
       "      <td>a</td>\n",
       "      <td>a</td>\n",
       "      <td>29910.0</td>\n",
       "      <td>4</td>\n",
       "      <td>2015</td>\n",
       "      <td>0</td>\n",
       "      <td>31</td>\n",
       "      <td>2015</td>\n",
       "      <td>0</td>\n",
       "      <td>Jul</td>\n",
       "      <td>0</td>\n",
       "    </tr>\n",
       "  </tbody>\n",
       "</table>\n",
       "</div>"
      ],
      "text/plain": [
       "   store  day_of_week       date  sales  customers  open  promo state_holiday  \\\n",
       "0      1            5 2015-07-31   5263        555     1      1             0   \n",
       "1      2            5 2015-07-31   6064        625     1      1             0   \n",
       "2      3            5 2015-07-31   8314        821     1      1             0   \n",
       "3      4            5 2015-07-31  13995       1498     1      1             0   \n",
       "4      5            5 2015-07-31   4822        559     1      1             0   \n",
       "\n",
       "   school_holiday store_type assortment  competition_distance  \\\n",
       "0               1          c          a                1270.0   \n",
       "1               1          a          a                 570.0   \n",
       "2               1          a          a               14130.0   \n",
       "3               1          c          c                 620.0   \n",
       "4               1          a          a               29910.0   \n",
       "\n",
       "   competition_open_since_month  competition_open_since_year  promo2  \\\n",
       "0                             9                         2008       0   \n",
       "1                            11                         2007       1   \n",
       "2                            12                         2006       1   \n",
       "3                             9                         2009       0   \n",
       "4                             4                         2015       0   \n",
       "\n",
       "   promo2_since_week  promo2_since_year   promo_interval month_map  is_promo  \n",
       "0                 31               2015                0       Jul         0  \n",
       "1                 13               2010  Jan,Apr,Jul,Oct       Jul         1  \n",
       "2                 14               2011  Jan,Apr,Jul,Oct       Jul         1  \n",
       "3                 31               2015                0       Jul         0  \n",
       "4                 31               2015                0       Jul         0  "
      ]
     },
     "execution_count": 16,
     "metadata": {},
     "output_type": "execute_result"
    }
   ],
   "source": [
    "df.head()"
   ]
  },
  {
   "cell_type": "markdown",
   "id": "96db2592",
   "metadata": {},
   "source": [
    "### 3.3. Estatística descritiva"
   ]
  },
  {
   "cell_type": "markdown",
   "id": "2c635422",
   "metadata": {},
   "source": [
    "Por que é importante? Para ganhar conhecimento de negócio e detectar alguns erros através do comportamento das:\n",
    "- Métricas de tendência central: média, mediana e moda.\n",
    "- Métricas de dispersão: amplitude, desvio, variância e desvio padrão.\n",
    "  - Skew: a deformação em relação a curvatura normal \n",
    "  - Kurtosis: concentração dos dados (quanto maior a altura do pico, maior a concentração dos dados,  um pico menor dignifica dados mais dispersos)"
   ]
  },
  {
   "cell_type": "code",
   "execution_count": 17,
   "id": "4c5f81a1",
   "metadata": {
    "ExecuteTime": {
     "end_time": "2023-04-13T13:04:43.275891Z",
     "start_time": "2023-04-13T13:04:43.001644Z"
    }
   },
   "outputs": [],
   "source": [
    "# Separar variáveis numéricas de variáveis categóricas\n",
    "\n",
    "num_attributes = df.select_dtypes( include = ['int64', 'float64'])\n",
    "cat_attributes = df.select_dtypes( exclude = ['int64', 'float64', 'datetime64[ns]'])\n"
   ]
  },
  {
   "cell_type": "markdown",
   "id": "1a3c2fe4",
   "metadata": {},
   "source": [
    "#### 3.3.1. Numerical attributes"
   ]
  },
  {
   "cell_type": "code",
   "execution_count": 18,
   "id": "d855c690",
   "metadata": {
    "ExecuteTime": {
     "end_time": "2023-04-13T13:04:51.222148Z",
     "start_time": "2023-04-13T13:04:43.282907Z"
    },
    "scrolled": true
   },
   "outputs": [
    {
     "data": {
      "text/html": [
       "<div>\n",
       "<style scoped>\n",
       "    .dataframe tbody tr th:only-of-type {\n",
       "        vertical-align: middle;\n",
       "    }\n",
       "\n",
       "    .dataframe tbody tr th {\n",
       "        vertical-align: top;\n",
       "    }\n",
       "\n",
       "    .dataframe thead th {\n",
       "        text-align: right;\n",
       "    }\n",
       "</style>\n",
       "<table border=\"1\" class=\"dataframe\">\n",
       "  <thead>\n",
       "    <tr style=\"text-align: right;\">\n",
       "      <th></th>\n",
       "      <th>attributes</th>\n",
       "      <th>min</th>\n",
       "      <th>max</th>\n",
       "      <th>range</th>\n",
       "      <th>mean</th>\n",
       "      <th>median</th>\n",
       "      <th>std</th>\n",
       "      <th>skew</th>\n",
       "      <th>kurtosis</th>\n",
       "    </tr>\n",
       "  </thead>\n",
       "  <tbody>\n",
       "    <tr>\n",
       "      <th>0</th>\n",
       "      <td>store</td>\n",
       "      <td>1.0</td>\n",
       "      <td>1115.0</td>\n",
       "      <td>1114.0</td>\n",
       "      <td>558.429727</td>\n",
       "      <td>558.0</td>\n",
       "      <td>321.908493</td>\n",
       "      <td>-0.000955</td>\n",
       "      <td>-1.200524</td>\n",
       "    </tr>\n",
       "    <tr>\n",
       "      <th>1</th>\n",
       "      <td>day_of_week</td>\n",
       "      <td>1.0</td>\n",
       "      <td>7.0</td>\n",
       "      <td>6.0</td>\n",
       "      <td>3.998341</td>\n",
       "      <td>4.0</td>\n",
       "      <td>1.997390</td>\n",
       "      <td>0.001593</td>\n",
       "      <td>-1.246873</td>\n",
       "    </tr>\n",
       "    <tr>\n",
       "      <th>2</th>\n",
       "      <td>sales</td>\n",
       "      <td>0.0</td>\n",
       "      <td>41551.0</td>\n",
       "      <td>41551.0</td>\n",
       "      <td>5773.818972</td>\n",
       "      <td>5744.0</td>\n",
       "      <td>3849.924283</td>\n",
       "      <td>0.641460</td>\n",
       "      <td>1.778375</td>\n",
       "    </tr>\n",
       "    <tr>\n",
       "      <th>3</th>\n",
       "      <td>customers</td>\n",
       "      <td>0.0</td>\n",
       "      <td>7388.0</td>\n",
       "      <td>7388.0</td>\n",
       "      <td>633.145946</td>\n",
       "      <td>609.0</td>\n",
       "      <td>464.411506</td>\n",
       "      <td>1.598650</td>\n",
       "      <td>7.091773</td>\n",
       "    </tr>\n",
       "    <tr>\n",
       "      <th>4</th>\n",
       "      <td>open</td>\n",
       "      <td>0.0</td>\n",
       "      <td>1.0</td>\n",
       "      <td>1.0</td>\n",
       "      <td>0.830107</td>\n",
       "      <td>1.0</td>\n",
       "      <td>0.375539</td>\n",
       "      <td>-1.758045</td>\n",
       "      <td>1.090723</td>\n",
       "    </tr>\n",
       "    <tr>\n",
       "      <th>5</th>\n",
       "      <td>promo</td>\n",
       "      <td>0.0</td>\n",
       "      <td>1.0</td>\n",
       "      <td>1.0</td>\n",
       "      <td>0.381515</td>\n",
       "      <td>0.0</td>\n",
       "      <td>0.485758</td>\n",
       "      <td>0.487838</td>\n",
       "      <td>-1.762018</td>\n",
       "    </tr>\n",
       "    <tr>\n",
       "      <th>6</th>\n",
       "      <td>school_holiday</td>\n",
       "      <td>0.0</td>\n",
       "      <td>1.0</td>\n",
       "      <td>1.0</td>\n",
       "      <td>0.178647</td>\n",
       "      <td>0.0</td>\n",
       "      <td>0.383056</td>\n",
       "      <td>1.677842</td>\n",
       "      <td>0.815154</td>\n",
       "    </tr>\n",
       "    <tr>\n",
       "      <th>7</th>\n",
       "      <td>competition_distance</td>\n",
       "      <td>20.0</td>\n",
       "      <td>200000.0</td>\n",
       "      <td>199980.0</td>\n",
       "      <td>5935.442677</td>\n",
       "      <td>2330.0</td>\n",
       "      <td>12547.646829</td>\n",
       "      <td>10.242344</td>\n",
       "      <td>147.789712</td>\n",
       "    </tr>\n",
       "    <tr>\n",
       "      <th>8</th>\n",
       "      <td>promo2</td>\n",
       "      <td>0.0</td>\n",
       "      <td>1.0</td>\n",
       "      <td>1.0</td>\n",
       "      <td>0.500564</td>\n",
       "      <td>1.0</td>\n",
       "      <td>0.500000</td>\n",
       "      <td>-0.002255</td>\n",
       "      <td>-1.999999</td>\n",
       "    </tr>\n",
       "    <tr>\n",
       "      <th>9</th>\n",
       "      <td>is_promo</td>\n",
       "      <td>0.0</td>\n",
       "      <td>1.0</td>\n",
       "      <td>1.0</td>\n",
       "      <td>0.171835</td>\n",
       "      <td>0.0</td>\n",
       "      <td>0.377237</td>\n",
       "      <td>1.739838</td>\n",
       "      <td>1.027039</td>\n",
       "    </tr>\n",
       "  </tbody>\n",
       "</table>\n",
       "</div>"
      ],
      "text/plain": [
       "             attributes   min       max     range         mean  median  \\\n",
       "0                 store   1.0    1115.0    1114.0   558.429727   558.0   \n",
       "1           day_of_week   1.0       7.0       6.0     3.998341     4.0   \n",
       "2                 sales   0.0   41551.0   41551.0  5773.818972  5744.0   \n",
       "3             customers   0.0    7388.0    7388.0   633.145946   609.0   \n",
       "4                  open   0.0       1.0       1.0     0.830107     1.0   \n",
       "5                 promo   0.0       1.0       1.0     0.381515     0.0   \n",
       "6        school_holiday   0.0       1.0       1.0     0.178647     0.0   \n",
       "7  competition_distance  20.0  200000.0  199980.0  5935.442677  2330.0   \n",
       "8                promo2   0.0       1.0       1.0     0.500564     1.0   \n",
       "9              is_promo   0.0       1.0       1.0     0.171835     0.0   \n",
       "\n",
       "            std       skew    kurtosis  \n",
       "0    321.908493  -0.000955   -1.200524  \n",
       "1      1.997390   0.001593   -1.246873  \n",
       "2   3849.924283   0.641460    1.778375  \n",
       "3    464.411506   1.598650    7.091773  \n",
       "4      0.375539  -1.758045    1.090723  \n",
       "5      0.485758   0.487838   -1.762018  \n",
       "6      0.383056   1.677842    0.815154  \n",
       "7  12547.646829  10.242344  147.789712  \n",
       "8      0.500000  -0.002255   -1.999999  \n",
       "9      0.377237   1.739838    1.027039  "
      ]
     },
     "execution_count": 18,
     "metadata": {},
     "output_type": "execute_result"
    }
   ],
   "source": [
    "# Central Tendency - mean, median\n",
    "ct1 = pd.DataFrame( num_attributes.apply( np.mean ) ).T\n",
    "ct2 = pd.DataFrame( num_attributes.apply( np.median ) ).T\n",
    "\n",
    "\n",
    "# Dispersion - std, min, max, range, skew, kurtosis\n",
    "d1 = pd.DataFrame( num_attributes.apply( np.std ) ).T\n",
    "d2 = pd.DataFrame( num_attributes.apply( min ) ).T\n",
    "d3 = pd.DataFrame( num_attributes.apply( max ) ).T\n",
    "d4 = pd.DataFrame( num_attributes.apply( lambda x: x.max() - x.min() ) ).T\n",
    "d5 = pd.DataFrame( num_attributes.apply( lambda x: x.skew() ) ).T\n",
    "d6 = pd.DataFrame( num_attributes.apply( lambda x: x.kurtosis() ) ).T\n",
    "\n",
    "# concatenate\n",
    "m = pd.concat( [d2, d3, d4, ct1, ct2, d1, d5, d6] ).T.reset_index()\n",
    "\n",
    "# Renomear colunas\n",
    "m.columns =  ['attributes', 'min', 'max', 'range', 'mean', 'median', 'std', 'skew', 'kurtosis']\n",
    "m"
   ]
  },
  {
   "cell_type": "code",
   "execution_count": 19,
   "id": "744fdd50",
   "metadata": {
    "ExecuteTime": {
     "end_time": "2023-04-13T13:04:51.254152Z",
     "start_time": "2023-04-13T13:04:51.230152Z"
    }
   },
   "outputs": [],
   "source": [
    "# num_attributes.agg([\"mean\",\"median\",\"std\",\"min\",\"max\",\"skew\",\"kurtosis\"]).T\n",
    "\n",
    "# num_attributes.agg([\"mean\",\"median\",\"std\",\"min\",\"max\",\"skew\",\"kurtosis\"]).T.reset_index().rename(columns={'index': 'attributes'})\n",
    "\n",
    "# Pra incluir o 'range', podemos utilizar a função 'ptp' (Peak-to-PeaK)\n",
    "# num_attributes.agg(['min', 'max', 'ptp', 'mean', 'median', 'std', 'skew', 'kurtosis']).T.reset_index().rename(columns={'index': 'attributes', 'ptp': 'range'})\n",
    "\n"
   ]
  },
  {
   "cell_type": "code",
   "execution_count": 20,
   "id": "b8883c3b",
   "metadata": {
    "ExecuteTime": {
     "end_time": "2023-04-13T13:05:17.429193Z",
     "start_time": "2023-04-13T13:04:51.283161Z"
    }
   },
   "outputs": [
    {
     "name": "stderr",
     "output_type": "stream",
     "text": [
      "C:\\Users\\paula\\AppData\\Local\\Temp\\ipykernel_6952\\3512468984.py:1: UserWarning: \n",
      "\n",
      "`distplot` is a deprecated function and will be removed in seaborn v0.14.0.\n",
      "\n",
      "Please adapt your code to use either `displot` (a figure-level function with\n",
      "similar flexibility) or `histplot` (an axes-level function for histograms).\n",
      "\n",
      "For a guide to updating your code to use the new functions, please see\n",
      "https://gist.github.com/mwaskom/de44147ed2974457ad6372750bbe5751\n",
      "\n",
      "  sns.distplot( df['sales'] )\n"
     ]
    },
    {
     "data": {
      "text/plain": [
       "<AxesSubplot: xlabel='sales', ylabel='Density'>"
      ]
     },
     "execution_count": 20,
     "metadata": {},
     "output_type": "execute_result"
    },
    {
     "data": {
      "image/png": "[encoded data removed]",
      "text/plain": [
       "<Figure size 640x480 with 1 Axes>"
      ]
     },
     "metadata": {},
     "output_type": "display_data"
    }
   ],
   "source": [
    "sns.distplot( df['sales'] )"
   ]
  },
  {
   "cell_type": "markdown",
   "id": "8c26e323",
   "metadata": {},
   "source": [
    "#### 3.3.2. Categorical attributes"
   ]
  },
  {
   "cell_type": "code",
   "execution_count": 21,
   "id": "6431fd18",
   "metadata": {
    "ExecuteTime": {
     "end_time": "2023-04-13T13:05:18.144320Z",
     "start_time": "2023-04-13T13:05:17.437179Z"
    }
   },
   "outputs": [
    {
     "data": {
      "text/plain": [
       "state_holiday                    4\n",
       "store_type                       4\n",
       "assortment                       3\n",
       "competition_open_since_month    12\n",
       "competition_open_since_year     23\n",
       "promo2_since_week               52\n",
       "promo2_since_year                7\n",
       "promo_interval                   4\n",
       "month_map                       12\n",
       "dtype: int64"
      ]
     },
     "execution_count": 21,
     "metadata": {},
     "output_type": "execute_result"
    }
   ],
   "source": [
    "cat_attributes.apply( lambda x: x.unique().shape[0] )"
   ]
  },
  {
   "cell_type": "code",
   "execution_count": 22,
   "id": "4d25cad4",
   "metadata": {
    "ExecuteTime": {
     "end_time": "2023-04-13T13:05:19.908653Z",
     "start_time": "2023-04-13T13:05:18.150320Z"
    }
   },
   "outputs": [
    {
     "data": {
      "text/plain": [
       "<AxesSubplot: xlabel='state_holiday', ylabel='sales'>"
      ]
     },
     "execution_count": 22,
     "metadata": {},
     "output_type": "execute_result"
    },
    {
     "data": {
      "image/png": "[encoded data removed]",
      "text/plain": [
       "<Figure size 640x480 with 1 Axes>"
      ]
     },
     "metadata": {},
     "output_type": "display_data"
    }
   ],
   "source": [
    "sns.boxplot( x='state_holiday', y='sales', data=df )\n",
    "# É impossível enxergar com o boxplot nessas dimensões"
   ]
  },
  {
   "cell_type": "code",
   "execution_count": 24,
   "id": "56eeeea9",
   "metadata": {
    "ExecuteTime": {
     "end_time": "2023-04-13T13:19:39.880838Z",
     "start_time": "2023-04-13T13:19:39.156127Z"
    }
   },
   "outputs": [
    {
     "data": {
      "text/plain": [
       "<AxesSubplot: xlabel='state_holiday', ylabel='sales'>"
      ]
     },
     "execution_count": 24,
     "metadata": {},
     "output_type": "execute_result"
    },
    {
     "data": {
      "image/png": "[encoded data removed]",
      "text/plain": [
       "<Figure size 640x480 with 1 Axes>"
      ]
     },
     "metadata": {},
     "output_type": "display_data"
    }
   ],
   "source": [
    "aux = df[((df['state_holiday'] != '0') & (df['sales'] > 0))]\n",
    "sns.boxplot(x='state_holiday', y='sales', data=aux)"
   ]
  },
  {
   "cell_type": "code",
   "execution_count": 35,
   "id": "a9ede5d8",
   "metadata": {
    "ExecuteTime": {
     "end_time": "2023-04-13T13:31:26.690615Z",
     "start_time": "2023-04-13T13:31:25.082039Z"
    }
   },
   "outputs": [
    {
     "data": {
      "text/plain": [
       "\"\\nplt.subplot(1, 3, 1)\\nsns.boxplot(x='state_holiday', y='sales', data=aux)\\n\\nplt.subplot(1, 3, 2)\\nsns.boxplot(x='store_type', y='sales', data=aux)\\n\\nplt.subplot(1, 3, 3)\\nsns.boxplot(x='assortment', y='sales', data=aux)\\n\\nplt.subplots_adjust(wspace=0.5)  # define o espaço horizontal entre as colunas\""
      ]
     },
     "execution_count": 35,
     "metadata": {},
     "output_type": "execute_result"
    },
    {
     "data": {
      "image/png": "[encoded data removed]",
      "text/plain": [
       "<Figure size 1200x400 with 3 Axes>"
      ]
     },
     "metadata": {},
     "output_type": "display_data"
    }
   ],
   "source": [
    "aux = df[((df['state_holiday'] != '0') & (df['sales'] > 0))]\n",
    "\n",
    "fig, axs = plt.subplots(1, 3, figsize=(12, 4), width_ratios=[0.5, 1, 1])\n",
    "\n",
    "sns.boxplot(x='state_holiday', y='sales', data=aux, ax=axs[0])\n",
    "sns.boxplot(x='store_type', y='sales', data=aux, ax=axs[1])\n",
    "sns.boxplot(x='assortment', y='sales', data=aux, ax=axs[2])\n",
    "\n",
    "'''\n",
    "plt.subplot(1, 3, 1)\n",
    "sns.boxplot(x='state_holiday', y='sales', data=aux)\n",
    "\n",
    "plt.subplot(1, 3, 2)\n",
    "sns.boxplot(x='store_type', y='sales', data=aux)\n",
    "\n",
    "plt.subplot(1, 3, 3)\n",
    "sns.boxplot(x='assortment', y='sales', data=aux)\n",
    "\n",
    "plt.subplots_adjust(wspace=0.5)  # define o espaço horizontal entre as colunas'''"
   ]
  },
  {
   "cell_type": "code",
   "execution_count": null,
   "id": "bb1156e3",
   "metadata": {},
   "outputs": [],
   "source": [
    "# \"min\" nao è o valor mìnimo e sim = Q1-1.5* (Q3-Q1)\n",
    "# \"max\" nao è o valor màximo e sim = Q3+1.5 *(Q3-Q1)\n",
    "# outliers 3x o desvio padrão std\n",
    "# Distribuição x Concentração "
   ]
  },
  {
   "cell_type": "markdown",
   "id": "8275a72c",
   "metadata": {},
   "source": [
    "### 3.4. Definição do modelo"
   ]
  },
  {
   "cell_type": "markdown",
   "id": "6e2dd844",
   "metadata": {},
   "source": [
    "### 3.5. Feature Engineering"
   ]
  },
  {
   "cell_type": "code",
   "execution_count": 38,
   "id": "7d1540f6",
   "metadata": {
    "ExecuteTime": {
     "end_time": "2023-04-13T14:22:35.127945Z",
     "start_time": "2023-04-13T14:22:34.974657Z"
    }
   },
   "outputs": [
    {
     "data": {
      "image/jpeg": "[encoded data removed]",
      "text/plain": [
       "<IPython.core.display.Image object>"
      ]
     },
     "execution_count": 38,
     "metadata": {},
     "output_type": "execute_result"
    }
   ],
   "source": [
    "Image('../img/MindMapHypothesis.jpg')"
   ]
  },
  {
   "cell_type": "markdown",
   "id": "8afad3bf",
   "metadata": {},
   "source": [
    "Criação de hipóteses\n",
    "\n",
    "1. Hipóteses Loja:\n",
    "- Lojas com maior sortimento deveriam vender mais;\n",
    "- Lojas com competidores mais próximos deveriam vender menos;\n",
    "- Lojas com competidores à mais tempo deveriam vender mais.\n",
    "\n",
    "2. Hipóteses Produto:\n",
    "- Lojas com promoções ativas deveriam vender mais;\n",
    "- Lojas com mais dias de promoção deveriam vender mais;\n",
    "- Lojas com mais promoções consecutivas deveriam vender mais.\n",
    "\n",
    "3. Hipóteses Tempo\n",
    "- Lojas abertas durante o feriado de Natal deveriam vender mais;\n",
    "- Lojas deveriam vender mais ao longo dos anos;\n",
    "- Lojas deveriam vender mais no segundo semestre do ano;\n",
    "- Lojas deveriam vender mais depois do dia 10 de cada mês;\n",
    "- Lojas deveriam vender menos aos finais de semana;\n",
    "- Lojas deveriam vender menos durante os feriados escolares."
   ]
  },
  {
   "cell_type": "code",
   "execution_count": 39,
   "id": "0d319463",
   "metadata": {
    "ExecuteTime": {
     "end_time": "2023-04-13T15:19:49.051092Z",
     "start_time": "2023-04-13T15:19:47.919305Z"
    }
   },
   "outputs": [],
   "source": [
    "df1 = df.copy()"
   ]
  },
  {
   "cell_type": "code",
   "execution_count": null,
   "id": "0fffbc2e",
   "metadata": {},
   "outputs": [],
   "source": [
    "# year\n",
    "df1['year'] = df1['date'].dt.year\n",
    "\n",
    "# month\n",
    "df1['month'] = df1['date'].dt.month\n",
    "\n",
    "# day\n",
    "df1['day'] = df1['date'].dt.day\n",
    "\n",
    "# week of year\n",
    "df1['week_of_year'] = df1['date'].dt.weekofyear\n",
    "\n",
    "# year week\n",
    "df1['year_week'] = df1['date'].dt.strftime( '%Y-%W' )\n",
    "\n",
    "# competition since\n",
    "df1.apply(lambda x: datetime.datetime( year = x['competition_open_since_year'], month = x['competition_open_since_month'], day=1 ), axis=1 )\n",
    "\n",
    "# Promo since\n",
    "# assortment\n",
    "# state holiday"
   ]
  },
  {
   "cell_type": "code",
   "execution_count": 40,
   "id": "e5ddba48",
   "metadata": {
    "ExecuteTime": {
     "end_time": "2023-04-13T18:07:21.530391Z",
     "start_time": "2023-04-13T18:07:21.394295Z"
    }
   },
   "outputs": [
    {
     "data": {
      "text/plain": [
       "Index(['store', 'day_of_week', 'date', 'sales', 'customers', 'open', 'promo',\n",
       "       'state_holiday', 'school_holiday', 'store_type', 'assortment',\n",
       "       'competition_distance', 'competition_open_since_month',\n",
       "       'competition_open_since_year', 'promo2', 'promo2_since_week',\n",
       "       'promo2_since_year', 'promo_interval', 'month_map', 'is_promo'],\n",
       "      dtype='object')"
      ]
     },
     "execution_count": 40,
     "metadata": {},
     "output_type": "execute_result"
    }
   ],
   "source": [
    "df.columns"
   ]
  },
  {
   "cell_type": "markdown",
   "id": "f5a5ce58",
   "metadata": {},
   "source": [
    "# 4. Validação do modelo"
   ]
  },
  {
   "cell_type": "markdown",
   "id": "247ed9bc",
   "metadata": {},
   "source": [
    "### 4.1. O modelo"
   ]
  },
  {
   "cell_type": "markdown",
   "id": "1c488a54",
   "metadata": {},
   "source": [
    "### 4.2. Métrica"
   ]
  },
  {
   "cell_type": "markdown",
   "id": "072657c4",
   "metadata": {},
   "source": [
    "### 4.3. Comparação"
   ]
  },
  {
   "cell_type": "markdown",
   "id": "b9850402",
   "metadata": {},
   "source": [
    "# 5. Preparação e visualização"
   ]
  },
  {
   "cell_type": "markdown",
   "id": "bbee7253",
   "metadata": {},
   "source": [
    "### 5.1. Apresentação"
   ]
  },
  {
   "cell_type": "markdown",
   "id": "def30f66",
   "metadata": {},
   "source": [
    "#### 5.1.1. O resultado corresponde com o esperado?"
   ]
  },
  {
   "cell_type": "markdown",
   "id": "76affe5d",
   "metadata": {},
   "source": [
    "#### 5.1.2. É necessário algum ajuste?"
   ]
  },
  {
   "cell_type": "markdown",
   "id": "611cab88",
   "metadata": {},
   "source": [
    "### 5.2. Pode ser implementado?"
   ]
  },
  {
   "cell_type": "markdown",
   "id": "01b395f7",
   "metadata": {},
   "source": [
    "# 6. Implementação"
   ]
  },
  {
   "cell_type": "code",
   "execution_count": null,
   "id": "17f72522",
   "metadata": {},
   "outputs": [],
   "source": []
  }
 ],
 "metadata": {
  "kernelspec": {
   "display_name": "Python 3 (ipykernel)",
   "language": "python",
   "name": "python3"
  },
  "language_info": {
   "codemirror_mode": {
    "name": "ipython",
    "version": 3
   },
   "file_extension": ".py",
   "mimetype": "text/x-python",
   "name": "python",
   "nbconvert_exporter": "python",
   "pygments_lexer": "ipython3",
   "version": "3.8.16"
  }
 },
 "nbformat": 4,
 "nbformat_minor": 5
}
